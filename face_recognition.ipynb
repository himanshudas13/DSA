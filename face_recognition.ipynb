{
  "cells": [
    {
      "cell_type": "markdown",
      "metadata": {
        "id": "view-in-github",
        "colab_type": "text"
      },
      "source": [
        "<a href=\"https://colab.research.google.com/github/himanshudas13/DSA/blob/master/face_recognition.ipynb\" target=\"_parent\"><img src=\"https://colab.research.google.com/assets/colab-badge.svg\" alt=\"Open In Colab\"/></a>"
      ]
    },
    {
      "cell_type": "code",
      "execution_count": null,
      "metadata": {
        "id": "pUXlgZ6dufiv"
      },
      "outputs": [],
      "source": [
        "from google.colab import drive\n",
        "drive.mount('/content/drive')"
      ]
    },
    {
      "cell_type": "code",
      "execution_count": 1,
      "metadata": {
        "colab": {
          "base_uri": "https://localhost:8080/"
        },
        "id": "RkQYHELyvYvq",
        "outputId": "b60b7e3c-50a5-4e8d-a918-fb1f16f3dea0"
      },
      "outputs": [
        {
          "output_type": "stream",
          "name": "stdout",
          "text": [
            "Collecting face_recognition\n",
            "  Downloading face_recognition-1.3.0-py2.py3-none-any.whl (15 kB)\n",
            "Collecting face-recognition-models>=0.3.0 (from face_recognition)\n",
            "  Downloading face_recognition_models-0.3.0.tar.gz (100.1 MB)\n",
            "\u001b[2K     \u001b[90m━━━━━━━━━━━━━━━━━━━━━━━━━━━━━━━━━━━━━━━\u001b[0m \u001b[32m100.1/100.1 MB\u001b[0m \u001b[31m9.2 MB/s\u001b[0m eta \u001b[36m0:00:00\u001b[0m\n",
            "\u001b[?25h  Preparing metadata (setup.py) ... \u001b[?25l\u001b[?25hdone\n",
            "Requirement already satisfied: Click>=6.0 in /usr/local/lib/python3.10/dist-packages (from face_recognition) (8.1.4)\n",
            "Requirement already satisfied: dlib>=19.7 in /usr/local/lib/python3.10/dist-packages (from face_recognition) (19.24.2)\n",
            "Requirement already satisfied: numpy in /usr/local/lib/python3.10/dist-packages (from face_recognition) (1.22.4)\n",
            "Requirement already satisfied: Pillow in /usr/local/lib/python3.10/dist-packages (from face_recognition) (8.4.0)\n",
            "Building wheels for collected packages: face-recognition-models\n",
            "  Building wheel for face-recognition-models (setup.py) ... \u001b[?25l\u001b[?25hdone\n",
            "  Created wheel for face-recognition-models: filename=face_recognition_models-0.3.0-py2.py3-none-any.whl size=100566173 sha256=1d5fc796adee228ee722bb6afe3db93d5e60114891254d751ddde2608093f4bb\n",
            "  Stored in directory: /root/.cache/pip/wheels/7a/eb/cf/e9eced74122b679557f597bb7c8e4c739cfcac526db1fd523d\n",
            "Successfully built face-recognition-models\n",
            "Installing collected packages: face-recognition-models, face_recognition\n",
            "Successfully installed face-recognition-models-0.3.0 face_recognition-1.3.0\n"
          ]
        }
      ],
      "source": [
        "! pip install face_recognition\n",
        "import face_recognition as fr\n",
        "import cv2\n",
        "import numpy as np\n",
        "import os\n",
        "import sys\n",
        "from google.colab.patches import cv2_imshow"
      ]
    },
    {
      "cell_type": "code",
      "execution_count": 2,
      "metadata": {
        "id": "g0clGQhenic3"
      },
      "outputs": [],
      "source": [
        "\n",
        "def trainpro(known_names,known_name_encodings):\n",
        " path = \"/content/drive/MyDrive/face-recognition-python-code/train\"\n",
        "# to be changed into a dictionary from a text path\n",
        " images = os.listdir(path)\n",
        " for _ in images:\n",
        "    image = fr.load_image_file(path + \"/\"+_)\n",
        "    image_path = path + \"/\"+_\n",
        "    encoding = fr.face_encodings(image)[0]\n",
        "\n",
        "    known_name_encodings.append(encoding)\n",
        "    known_names.append(os.path.splitext(os.path.basename(image_path))[0].capitalize())\n",
        "\n",
        " print(known_names)"
      ]
    },
    {
      "cell_type": "code",
      "execution_count": 3,
      "metadata": {
        "id": "1MmI-tvM6KGs"
      },
      "outputs": [],
      "source": [
        "def facerec(test_image,known_names,known_name_encodings):\n",
        "\n",
        " image = cv2.imread(test_image)\n",
        " image = cv2.cvtColor(image, cv2.COLOR_BGR2RGB)\n",
        "\n",
        " face_locations = fr.face_locations(image)\n",
        " face_encodings = fr.face_encodings(image, face_locations)\n",
        "\n",
        " for (top, right, bottom, left), face_encoding in zip(face_locations, face_encodings):\n",
        "    matches = fr.compare_faces(known_name_encodings, face_encoding)\n",
        "    name = \"\"\n",
        "\n",
        "    face_distances = fr.face_distance(known_name_encodings, face_encoding)\n",
        "    best_match = np.argmin(face_distances)\n",
        "\n",
        "    if matches[best_match]:\n",
        "        name = known_names[best_match]\n",
        "\n",
        "    cv2.rectangle(image, (left, top), (right, bottom), (0, 0, 255), 2)\n",
        "    cv2.rectangle(image, (left, bottom - 15), (right, bottom), (0, 0, 255), cv2.FILLED)\n",
        "    font = cv2.FONT_HERSHEY_DUPLEX\n",
        "    cv2.putText(image, name, (left + 6, bottom - 6), font, 1.0, (255, 255, 255), 1)\n",
        " cv2_imshow(image)\n",
        " cv2.imwrite(\"./output.jpg\", image)"
      ]
    },
    {
      "cell_type": "code",
      "source": [
        "# def camon(test_image):\n",
        "\n",
        "#   cap = cv2.VideoCapture(0)\n",
        "#   while True:\n",
        "\n",
        "#     success, imagei=cap.read()\n",
        "\n",
        "#     image=cv2.resize(imagei,(0,0),None,0.25,0.25)\n",
        "#     image = cv2.cvtColor(image, cv2.COLOR_BGR2RGB)\n",
        "#     face_locations = fr.face_locations(image)\n",
        "#     face_encodings = fr.face_encodings(image, face_locations)\n",
        "\n",
        "#     for (top, right, bottom, left), face_encoding in zip(face_locations, face_encodings):\n",
        "#       cv2.rectangle(imagei, (left, top), (right, bottom), (0, 0, 255), 2)\n",
        "#       cv2.rectangle(imagei, (left, bottom - 15), (right, bottom), (0, 0, 255), cv2.FILLED)\n",
        "#       matches = fr.compare_faces(known_name_encodings, face_encoding)\n",
        "#       name = \"\"\n",
        "\n",
        "#       face_distances = fr.face_distance(known_name_encodings, face_encoding)\n",
        "#       best_match = np.argmin(face_distances)\n",
        "\n",
        "#       if matches[best_match]:\n",
        "#         name = known_names[best_match]\n",
        "\n",
        "#         cv2.rectangle(imagei, (left, top), (right, bottom), (0, 0, 255), 2)\n",
        "#         cv2.rectangle(imagei, (left, bottom - 15), (right, bottom), (0, 0, 255), cv2.FILLED)\n",
        "#         font = cv2.FONT_HERSHEY_DUPLEX\n",
        "#         cv2.putText(imagei, name, (left + 6, bottom - 6), font, 1.0, (255, 255, 255), 1)\n",
        "#     cv2_imshow(imagei)\n",
        "#     cv2.imwrite(\"./output.jpg\", image)\n",
        "#     cv2.waitKey(1)\n",
        "\n",
        "\n",
        "#     # Draw a rectangle around the faces\n",
        "\n",
        "#     # Display the resulting frame\n",
        "#     cv2.imshow('Webcam', imagei)\n",
        "\n",
        "#     if cv2.waitKey(1) & 0xFF == ord('q'):\n",
        "#         break\n"
      ],
      "metadata": {
        "id": "6v6AC-7rJGlb"
      },
      "execution_count": 4,
      "outputs": []
    },
    {
      "cell_type": "code",
      "source": [],
      "metadata": {
        "id": "KWSOIHJked52"
      },
      "execution_count": null,
      "outputs": []
    },
    {
      "cell_type": "code",
      "source": [
        "from IPython.display import display, Javascript\n",
        "from google.colab.output import eval_js\n",
        "from base64 import b64decode\n",
        "\n",
        "def take_photo(filename='photo.jpg', quality=0.8):\n",
        "  js = Javascript('''\n",
        "    async function takePhoto(quality) {\n",
        "      const div = document.createElement('div');\n",
        "      const capture = document.createElement('button');\n",
        "      capture.textContent = 'Capture';\n",
        "      div.appendChild(capture);\n",
        "\n",
        "      const video = document.createElement('video');\n",
        "      video.style.display = 'block';\n",
        "      const stream = await navigator.mediaDevices.getUserMedia({video: true});\n",
        "\n",
        "      document.body.appendChild(div);\n",
        "      div.appendChild(video);\n",
        "      video.srcObject = stream;\n",
        "      await video.play();\n",
        "\n",
        "      // Resize the output to fit the video element.\n",
        "      google.colab.output.setIframeHeight(document.documentElement.scrollHeight, true);\n",
        "\n",
        "      // Wait for Capture to be clicked.\n",
        "      await new Promise((resolve) => capture.onclick = resolve);\n",
        "\n",
        "      const canvas = document.createElement('canvas');\n",
        "      canvas.width = video.videoWidth;\n",
        "      canvas.height = video.videoHeight;\n",
        "      canvas.getContext('2d').drawImage(video, 0, 0);\n",
        "      stream.getVideoTracks()[0].stop();\n",
        "      div.remove();\n",
        "      return canvas.toDataURL('image/jpeg', quality);\n",
        "    }\n",
        "    ''')\n",
        "  display(js)\n",
        "  data = eval_js('takePhoto({})'.format(quality))\n",
        "  binary = b64decode(data.split(',')[1])\n",
        "  with open(filename, 'wb') as f:\n",
        "    f.write(binary)\n",
        "  return filename"
      ],
      "metadata": {
        "id": "u9AKQaO2d1_2"
      },
      "execution_count": 5,
      "outputs": []
    },
    {
      "cell_type": "code",
      "execution_count": null,
      "metadata": {
        "id": "kxgK66yA7Rmy"
      },
      "outputs": [],
      "source": [
        "from IPython.display import Image\n",
        "test_image=\"\"\n",
        "known_names = []\n",
        "known_name_encodings = []\n",
        "trainpro(known_names,known_name_encodings)\n",
        "print(\"Do you want to give access to camera ?\")\n",
        "ans=input()\n",
        "if(ans==\"y\"):\n",
        " try:\n",
        "  test_image = take_photo()\n",
        "  facerec(test_image,known_names,known_name_encodings)\n",
        " except Exception as err:\n",
        "  # Errors will be thrown if the user does not have a webcam or if they do not\n",
        "  # grant the page permission to access it.\n",
        "  print(str(err))\n",
        "else:\n",
        " test_image = \"/content/drive/MyDrive/face-recognition-python-code/test/test.jpg\"\n",
        " facerec(test_image,known_names,known_name_encodings)\n",
        "\n",
        "cv2.waitKey(0)\n",
        "cv2.destroyAllWindows()\n"
      ]
    },
    {
      "cell_type": "code",
      "source": [],
      "metadata": {
        "id": "vu6ZvMDVdu4c"
      },
      "execution_count": null,
      "outputs": []
    }
  ],
  "metadata": {
    "accelerator": "GPU",
    "colab": {
      "provenance": [],
      "toc_visible": true,
      "gpuType": "T4",
      "mount_file_id": "15vWsedOHL9uxQvzC8a0eM4Taj1XODX1t",
      "authorship_tag": "ABX9TyPV9bYEc73F/yCyHZx/evk1",
      "include_colab_link": true
    },
    "kernelspec": {
      "display_name": "Python 3",
      "name": "python3"
    },
    "language_info": {
      "name": "python"
    }
  },
  "nbformat": 4,
  "nbformat_minor": 0
}